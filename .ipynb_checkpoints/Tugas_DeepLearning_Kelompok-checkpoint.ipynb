{
 "cells": [
  {
   "cell_type": "markdown",
   "metadata": {
    "id": "d1VT4G5tyl5G"
   },
   "source": [
    "# Kampus Merdeka 6: IBM & Skilvul\n",
    "# Artificial Intelligence Phase Challenge"
   ]
  },
  {
   "cell_type": "markdown",
   "metadata": {
    "id": "1k24hxtkpMD_"
   },
   "source": [
    "## Kelompok: 23\n",
    "## Anggota\n",
    "\n",
    "*   Ifanda Ariel Pradana Aji\n",
    "*   Ilham Ramadhan\n",
    "*   Thadeo Miftakhul Fauzi\n",
    "*   Devi Koestri Elviani\n",
    "*   Novita Nur Alifah\n"
   ]
  },
  {
   "cell_type": "markdown",
   "metadata": {
    "id": "ZZ6YqGiyyvdC"
   },
   "source": [
    "# Problem Definition\n",
    "##Topik: (tulis topik di sini)\n",
    "\n",
    "## Latar Belakang\n",
    "(tulis latar belakang di sini)\n",
    "## Tujuan Penelitian\n",
    "(tulis tujuan penelitian di sini)\n",
    "## Pertanyaan kunci\n",
    "*   (pertanyaan kunci 1)\n",
    "*   (pertanyaan kunci 2)\n",
    "\n",
    "## Data yang akan dipakai\n",
    "(tulis nama, sumber data, dan deskripsi data di sini)\n",
    "## Jenis Masalah Neural Network\n",
    "(pilih metode yang akan dipakai: Computer Vision (CV) / Natural Language Processing (NLP) / Tabular Data)\n",
    "## Model\n",
    "(pilih model(-model) yang dipakai): MLP / CNN / RNN / LSTM / Lainnya"
   ]
  },
  {
   "cell_type": "markdown",
   "metadata": {
    "id": "V5C2jSQ6R98h"
   },
   "source": [
    "# Preparation | Persiapan\n",
    "## Import Libraries"
   ]
  },
  {
   "cell_type": "code",
   "execution_count": null,
   "metadata": {
    "id": "RTGMRAdQaHm8"
   },
   "outputs": [],
   "source": [
    "# import necessary packages\n",
    "import __ as __\n",
    "from __ import __"
   ]
  },
  {
   "cell_type": "markdown",
   "metadata": {
    "id": "zPmcajUfSTDd"
   },
   "source": [
    "## Get Data | Mendapatkan Data"
   ]
  },
  {
   "cell_type": "code",
   "execution_count": null,
   "metadata": {
    "id": "FeEis7MISTW_"
   },
   "outputs": [],
   "source": [
    "# get data\n",
    "df = pd.read_()"
   ]
  },
  {
   "cell_type": "markdown",
   "metadata": {
    "id": "qlMrrpF9SaIb"
   },
   "source": [
    "## Explore Data (EDA) | Eksplorasi Data"
   ]
  },
  {
   "cell_type": "code",
   "execution_count": null,
   "metadata": {
    "id": "I8wwkBTBSZi0"
   },
   "outputs": [],
   "source": [
    "# check data\n",
    "df.head()"
   ]
  },
  {
   "cell_type": "code",
   "execution_count": null,
   "metadata": {
    "id": "2ofyr2seDaOf"
   },
   "outputs": [],
   "source": [
    "# describe data\n"
   ]
  },
  {
   "cell_type": "code",
   "execution_count": null,
   "metadata": {
    "id": "K36J51OADaG0"
   },
   "outputs": [],
   "source": [
    "# perform data visualization\n"
   ]
  },
  {
   "cell_type": "code",
   "execution_count": null,
   "metadata": {
    "id": "aW93DvlXDZ9r"
   },
   "outputs": [],
   "source": []
  },
  {
   "cell_type": "markdown",
   "metadata": {
    "id": "glO3uSH9SnE9"
   },
   "source": [
    "## Preprocess Data | Proses Awal Data"
   ]
  },
  {
   "cell_type": "code",
   "execution_count": null,
   "metadata": {
    "id": "g99M8h4gSm08"
   },
   "outputs": [],
   "source": []
  },
  {
   "cell_type": "code",
   "execution_count": null,
   "metadata": {
    "id": "JhZg_2QiDcOk"
   },
   "outputs": [],
   "source": []
  },
  {
   "cell_type": "code",
   "execution_count": null,
   "metadata": {
    "id": "-dvjkwfVrSDA"
   },
   "outputs": [],
   "source": []
  },
  {
   "cell_type": "code",
   "execution_count": null,
   "metadata": {
    "id": "CKY2e7WMrcUS"
   },
   "outputs": [],
   "source": [
    "# split data\n"
   ]
  },
  {
   "cell_type": "markdown",
   "metadata": {
    "id": "dQks3T8lSofl"
   },
   "source": [
    "# Model Training | Pelatihan Model\n",
    "\n",
    "Sesuai tujuan penelitian dan karakteristik data, n algoritma _neural network_ dipilih untuk dilatih dalam eksperimen:\n",
    "\n",
    "*   Algoritma 1\n",
    "*   Algoritma 2\n",
    "*   Algoritma 3\n",
    "\n"
   ]
  },
  {
   "cell_type": "code",
   "execution_count": null,
   "metadata": {
    "id": "otcM35VNSo0P"
   },
   "outputs": [],
   "source": [
    "# build model\n",
    "## set model type\n",
    "\n",
    "## add layers\n"
   ]
  },
  {
   "cell_type": "code",
   "execution_count": null,
   "metadata": {
    "id": "ahnkUW64ri-C"
   },
   "outputs": [],
   "source": [
    "# print model summary\n"
   ]
  },
  {
   "cell_type": "code",
   "execution_count": null,
   "metadata": {
    "id": "l1FiPenZregs"
   },
   "outputs": [],
   "source": [
    "# compile model\n",
    "\n",
    "# fit / run model\n"
   ]
  },
  {
   "cell_type": "markdown",
   "metadata": {
    "id": "cPwx1aYuSsyy"
   },
   "source": [
    "# Model Evaluation | Evaluasi Model"
   ]
  },
  {
   "cell_type": "code",
   "execution_count": null,
   "metadata": {
    "id": "mwm0uZ3LSuHU"
   },
   "outputs": [],
   "source": [
    "# evaluate model\n"
   ]
  },
  {
   "cell_type": "markdown",
   "metadata": {
    "id": "Y5SjvlWsSum3"
   },
   "source": [
    "# Model Selection | Pemilihan Model\n",
    "\n",
    "Berdasarkan hasil evaluasi ....., diputuskan untuk memilih model ..... ."
   ]
  },
  {
   "cell_type": "code",
   "execution_count": null,
   "metadata": {
    "id": "S-pYpu_fs45j"
   },
   "outputs": [],
   "source": [
    "# save model\n"
   ]
  },
  {
   "cell_type": "markdown",
   "metadata": {
    "id": "Ryln4XIEaR-Z"
   },
   "source": [
    "# Conclusion | Kesimpulan\n",
    "\n",
    "(tulis kesimpulan di sini)"
   ]
  },
  {
   "cell_type": "code",
   "execution_count": null,
   "metadata": {
    "id": "8NXRGy3tLbMq"
   },
   "outputs": [],
   "source": []
  }
 ],
 "metadata": {
  "colab": {
   "provenance": []
  },
  "kernelspec": {
   "display_name": "Python 3 (ipykernel)",
   "language": "python",
   "name": "python3"
  },
  "language_info": {
   "codemirror_mode": {
    "name": "ipython",
    "version": 3
   },
   "file_extension": ".py",
   "mimetype": "text/x-python",
   "name": "python",
   "nbconvert_exporter": "python",
   "pygments_lexer": "ipython3",
   "version": "3.11.9"
  }
 },
 "nbformat": 4,
 "nbformat_minor": 4
}
